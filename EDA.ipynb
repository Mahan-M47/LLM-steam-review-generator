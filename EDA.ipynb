{
 "cells": [
  {
   "cell_type": "markdown",
   "metadata": {},
   "source": [
    "# Baldur's Gate 3 Steam Reviews EDA\n",
    "Mahan Madani - Mohammad Mehdi Begmaz"
   ]
  },
  {
   "cell_type": "markdown",
   "metadata": {},
   "source": [
    "## Load Dataset and import libraries"
   ]
  },
  {
   "cell_type": "code",
   "execution_count": 13,
   "metadata": {},
   "outputs": [],
   "source": [
    "import os, zipfile\n",
    "import re\n",
    "\n",
    "import pandas as pd\n",
    "import numpy as np\n",
    "from profanity_check import predict\n",
    "\n",
    "import matplotlib.pyplot as plt\n",
    "import seaborn as sns\n",
    "\n",
    "import nltk\n",
    "from nltk.corpus import stopwords\n",
    "from nltk.tokenize import word_tokenize"
   ]
  },
  {
   "cell_type": "code",
   "execution_count": 2,
   "metadata": {},
   "outputs": [
    {
     "name": "stdout",
     "output_type": "stream",
     "text": [
      "baldurs-gate-3-steam-reviews.zip: Skipping, found more recently modified local copy (use --force to force download)\n"
     ]
    }
   ],
   "source": [
    "# !pip install kaggle\n",
    "\n",
    "# Upload your kaggle.json file and replace the path below\n",
    "os.environ['KAGGLE_CONFIG_DIR'] = \"./.kaggle\"\n",
    "\n",
    "!kaggle datasets download -p ./dataset harisyafie/baldurs-gate-3-steam-reviews"
   ]
  },
  {
   "cell_type": "code",
   "execution_count": 3,
   "metadata": {},
   "outputs": [],
   "source": [
    "with zipfile.ZipFile('./dataset/baldurs-gate-3-steam-reviews.zip', 'r') as zip_ref:\n",
    "    zip_ref.extractall('./dataset')"
   ]
  },
  {
   "cell_type": "code",
   "execution_count": 2,
   "metadata": {},
   "outputs": [
    {
     "name": "stdout",
     "output_type": "stream",
     "text": [
      "Index(['recommendationid', 'language', 'review', 'timestamp_created',\n",
      "       'timestamp_updated', 'voted_up', 'votes_up', 'votes_funny',\n",
      "       'weighted_vote_score', 'written_during_early_access', 'comment_count',\n",
      "       'steam_purchase', 'received_for_free'],\n",
      "      dtype='object')\n",
      "(309103, 13)\n"
     ]
    }
   ],
   "source": [
    "df = pd.read_csv(\"dataset/BG3_reviews_updated.csv\")\n",
    "print(df.columns)\n",
    "print(df.shape)"
   ]
  },
  {
   "cell_type": "markdown",
   "metadata": {},
   "source": [
    "## Basic Data Analysis"
   ]
  },
  {
   "cell_type": "code",
   "execution_count": 5,
   "metadata": {},
   "outputs": [
    {
     "data": {
      "text/html": [
       "<div>\n",
       "<style scoped>\n",
       "    .dataframe tbody tr th:only-of-type {\n",
       "        vertical-align: middle;\n",
       "    }\n",
       "\n",
       "    .dataframe tbody tr th {\n",
       "        vertical-align: top;\n",
       "    }\n",
       "\n",
       "    .dataframe thead th {\n",
       "        text-align: right;\n",
       "    }\n",
       "</style>\n",
       "<table border=\"1\" class=\"dataframe\">\n",
       "  <thead>\n",
       "    <tr style=\"text-align: right;\">\n",
       "      <th></th>\n",
       "      <th>recommendationid</th>\n",
       "      <th>language</th>\n",
       "      <th>review</th>\n",
       "      <th>timestamp_created</th>\n",
       "      <th>timestamp_updated</th>\n",
       "      <th>voted_up</th>\n",
       "      <th>votes_up</th>\n",
       "      <th>votes_funny</th>\n",
       "      <th>weighted_vote_score</th>\n",
       "      <th>written_during_early_access</th>\n",
       "      <th>comment_count</th>\n",
       "      <th>steam_purchase</th>\n",
       "      <th>received_for_free</th>\n",
       "    </tr>\n",
       "  </thead>\n",
       "  <tbody>\n",
       "    <tr>\n",
       "      <th>0</th>\n",
       "      <td>153560814</td>\n",
       "      <td>english</td>\n",
       "      <td>This game hits all the right marks. 10/10</td>\n",
       "      <td>1702542971</td>\n",
       "      <td>1702542971</td>\n",
       "      <td>True</td>\n",
       "      <td>0</td>\n",
       "      <td>0</td>\n",
       "      <td>0.0</td>\n",
       "      <td>False</td>\n",
       "      <td>0</td>\n",
       "      <td>True</td>\n",
       "      <td>False</td>\n",
       "    </tr>\n",
       "    <tr>\n",
       "      <th>1</th>\n",
       "      <td>153560623</td>\n",
       "      <td>english</td>\n",
       "      <td>took me like 11 hours to understand the basics</td>\n",
       "      <td>1702542657</td>\n",
       "      <td>1702542657</td>\n",
       "      <td>True</td>\n",
       "      <td>0</td>\n",
       "      <td>0</td>\n",
       "      <td>0.0</td>\n",
       "      <td>False</td>\n",
       "      <td>0</td>\n",
       "      <td>True</td>\n",
       "      <td>False</td>\n",
       "    </tr>\n",
       "    <tr>\n",
       "      <th>2</th>\n",
       "      <td>153560414</td>\n",
       "      <td>english</td>\n",
       "      <td>10/10 game play and story! It's my first turn ...</td>\n",
       "      <td>1702542275</td>\n",
       "      <td>1702542275</td>\n",
       "      <td>True</td>\n",
       "      <td>0</td>\n",
       "      <td>0</td>\n",
       "      <td>0.0</td>\n",
       "      <td>False</td>\n",
       "      <td>0</td>\n",
       "      <td>True</td>\n",
       "      <td>False</td>\n",
       "    </tr>\n",
       "  </tbody>\n",
       "</table>\n",
       "</div>"
      ],
      "text/plain": [
       "   recommendationid language  \\\n",
       "0         153560814  english   \n",
       "1         153560623  english   \n",
       "2         153560414  english   \n",
       "\n",
       "                                              review  timestamp_created  \\\n",
       "0          This game hits all the right marks. 10/10         1702542971   \n",
       "1     took me like 11 hours to understand the basics         1702542657   \n",
       "2  10/10 game play and story! It's my first turn ...         1702542275   \n",
       "\n",
       "   timestamp_updated  voted_up  votes_up  votes_funny  weighted_vote_score  \\\n",
       "0         1702542971      True         0            0                  0.0   \n",
       "1         1702542657      True         0            0                  0.0   \n",
       "2         1702542275      True         0            0                  0.0   \n",
       "\n",
       "   written_during_early_access  comment_count  steam_purchase  \\\n",
       "0                        False              0            True   \n",
       "1                        False              0            True   \n",
       "2                        False              0            True   \n",
       "\n",
       "   received_for_free  \n",
       "0              False  \n",
       "1              False  \n",
       "2              False  "
      ]
     },
     "execution_count": 5,
     "metadata": {},
     "output_type": "execute_result"
    }
   ],
   "source": [
    "df.head(3)"
   ]
  },
  {
   "cell_type": "code",
   "execution_count": 6,
   "metadata": {},
   "outputs": [
    {
     "data": {
      "text/html": [
       "<div>\n",
       "<style scoped>\n",
       "    .dataframe tbody tr th:only-of-type {\n",
       "        vertical-align: middle;\n",
       "    }\n",
       "\n",
       "    .dataframe tbody tr th {\n",
       "        vertical-align: top;\n",
       "    }\n",
       "\n",
       "    .dataframe thead th {\n",
       "        text-align: right;\n",
       "    }\n",
       "</style>\n",
       "<table border=\"1\" class=\"dataframe\">\n",
       "  <thead>\n",
       "    <tr style=\"text-align: right;\">\n",
       "      <th></th>\n",
       "      <th>language</th>\n",
       "      <th>review</th>\n",
       "      <th>voted_up</th>\n",
       "      <th>written_during_early_access</th>\n",
       "      <th>steam_purchase</th>\n",
       "      <th>received_for_free</th>\n",
       "    </tr>\n",
       "  </thead>\n",
       "  <tbody>\n",
       "    <tr>\n",
       "      <th>count</th>\n",
       "      <td>309103</td>\n",
       "      <td>308086</td>\n",
       "      <td>309103</td>\n",
       "      <td>309103</td>\n",
       "      <td>309103</td>\n",
       "      <td>309103</td>\n",
       "    </tr>\n",
       "    <tr>\n",
       "      <th>unique</th>\n",
       "      <td>1</td>\n",
       "      <td>255104</td>\n",
       "      <td>2</td>\n",
       "      <td>2</td>\n",
       "      <td>2</td>\n",
       "      <td>2</td>\n",
       "    </tr>\n",
       "    <tr>\n",
       "      <th>top</th>\n",
       "      <td>english</td>\n",
       "      <td>good</td>\n",
       "      <td>True</td>\n",
       "      <td>False</td>\n",
       "      <td>True</td>\n",
       "      <td>False</td>\n",
       "    </tr>\n",
       "    <tr>\n",
       "      <th>freq</th>\n",
       "      <td>309103</td>\n",
       "      <td>1937</td>\n",
       "      <td>298932</td>\n",
       "      <td>261055</td>\n",
       "      <td>278256</td>\n",
       "      <td>306024</td>\n",
       "    </tr>\n",
       "  </tbody>\n",
       "</table>\n",
       "</div>"
      ],
      "text/plain": [
       "       language  review voted_up written_during_early_access steam_purchase  \\\n",
       "count    309103  308086   309103                      309103         309103   \n",
       "unique        1  255104        2                           2              2   \n",
       "top     english    good     True                       False           True   \n",
       "freq     309103    1937   298932                      261055         278256   \n",
       "\n",
       "       received_for_free  \n",
       "count             309103  \n",
       "unique                 2  \n",
       "top                False  \n",
       "freq              306024  "
      ]
     },
     "execution_count": 6,
     "metadata": {},
     "output_type": "execute_result"
    }
   ],
   "source": [
    "df.describe(include=['object', 'bool'])"
   ]
  },
  {
   "cell_type": "code",
   "execution_count": 7,
   "metadata": {},
   "outputs": [
    {
     "name": "stdout",
     "output_type": "stream",
     "text": [
      "<class 'pandas.core.frame.DataFrame'>\n",
      "RangeIndex: 309103 entries, 0 to 309102\n",
      "Data columns (total 13 columns):\n",
      " #   Column                       Non-Null Count   Dtype  \n",
      "---  ------                       --------------   -----  \n",
      " 0   recommendationid             309103 non-null  int64  \n",
      " 1   language                     309103 non-null  object \n",
      " 2   review                       308086 non-null  object \n",
      " 3   timestamp_created            309103 non-null  int64  \n",
      " 4   timestamp_updated            309103 non-null  int64  \n",
      " 5   voted_up                     309103 non-null  bool   \n",
      " 6   votes_up                     309103 non-null  int64  \n",
      " 7   votes_funny                  309103 non-null  int64  \n",
      " 8   weighted_vote_score          309103 non-null  float64\n",
      " 9   written_during_early_access  309103 non-null  bool   \n",
      " 10  comment_count                309103 non-null  int64  \n",
      " 11  steam_purchase               309103 non-null  bool   \n",
      " 12  received_for_free            309103 non-null  bool   \n",
      "dtypes: bool(4), float64(1), int64(6), object(2)\n",
      "memory usage: 22.4+ MB\n"
     ]
    }
   ],
   "source": [
    "df.info()"
   ]
  },
  {
   "cell_type": "markdown",
   "metadata": {},
   "source": [
    "Handle null values and duplicate values"
   ]
  },
  {
   "cell_type": "code",
   "execution_count": 3,
   "metadata": {},
   "outputs": [
    {
     "data": {
      "text/html": [
       "<div>\n",
       "<style scoped>\n",
       "    .dataframe tbody tr th:only-of-type {\n",
       "        vertical-align: middle;\n",
       "    }\n",
       "\n",
       "    .dataframe tbody tr th {\n",
       "        vertical-align: top;\n",
       "    }\n",
       "\n",
       "    .dataframe thead th {\n",
       "        text-align: right;\n",
       "    }\n",
       "</style>\n",
       "<table border=\"1\" class=\"dataframe\">\n",
       "  <thead>\n",
       "    <tr style=\"text-align: right;\">\n",
       "      <th></th>\n",
       "      <th>Null Count</th>\n",
       "    </tr>\n",
       "  </thead>\n",
       "  <tbody>\n",
       "    <tr>\n",
       "      <th>recommendationid</th>\n",
       "      <td>0</td>\n",
       "    </tr>\n",
       "    <tr>\n",
       "      <th>language</th>\n",
       "      <td>0</td>\n",
       "    </tr>\n",
       "    <tr>\n",
       "      <th>review</th>\n",
       "      <td>1017</td>\n",
       "    </tr>\n",
       "    <tr>\n",
       "      <th>timestamp_created</th>\n",
       "      <td>0</td>\n",
       "    </tr>\n",
       "    <tr>\n",
       "      <th>timestamp_updated</th>\n",
       "      <td>0</td>\n",
       "    </tr>\n",
       "    <tr>\n",
       "      <th>voted_up</th>\n",
       "      <td>0</td>\n",
       "    </tr>\n",
       "    <tr>\n",
       "      <th>votes_up</th>\n",
       "      <td>0</td>\n",
       "    </tr>\n",
       "    <tr>\n",
       "      <th>votes_funny</th>\n",
       "      <td>0</td>\n",
       "    </tr>\n",
       "    <tr>\n",
       "      <th>weighted_vote_score</th>\n",
       "      <td>0</td>\n",
       "    </tr>\n",
       "    <tr>\n",
       "      <th>written_during_early_access</th>\n",
       "      <td>0</td>\n",
       "    </tr>\n",
       "    <tr>\n",
       "      <th>comment_count</th>\n",
       "      <td>0</td>\n",
       "    </tr>\n",
       "    <tr>\n",
       "      <th>steam_purchase</th>\n",
       "      <td>0</td>\n",
       "    </tr>\n",
       "    <tr>\n",
       "      <th>received_for_free</th>\n",
       "      <td>0</td>\n",
       "    </tr>\n",
       "  </tbody>\n",
       "</table>\n",
       "</div>"
      ],
      "text/plain": [
       "                             Null Count\n",
       "recommendationid                      0\n",
       "language                              0\n",
       "review                             1017\n",
       "timestamp_created                     0\n",
       "timestamp_updated                     0\n",
       "voted_up                              0\n",
       "votes_up                              0\n",
       "votes_funny                           0\n",
       "weighted_vote_score                   0\n",
       "written_during_early_access           0\n",
       "comment_count                         0\n",
       "steam_purchase                        0\n",
       "received_for_free                     0"
      ]
     },
     "execution_count": 3,
     "metadata": {},
     "output_type": "execute_result"
    }
   ],
   "source": [
    "null_counts = df.isnull().sum()\n",
    "null_table = pd.DataFrame(null_counts, columns=[\"Null Count\"])\n",
    "null_table"
   ]
  },
  {
   "cell_type": "code",
   "execution_count": 4,
   "metadata": {},
   "outputs": [
    {
     "data": {
      "text/plain": [
       "(309103, 13)"
      ]
     },
     "execution_count": 4,
     "metadata": {},
     "output_type": "execute_result"
    }
   ],
   "source": [
    "df.dropna()\n",
    "df.shape"
   ]
  },
  {
   "cell_type": "code",
   "execution_count": 5,
   "metadata": {},
   "outputs": [
    {
     "name": "stdout",
     "output_type": "stream",
     "text": [
      "Duplicate records found:\n",
      "60446\n"
     ]
    }
   ],
   "source": [
    "duplicated = df.duplicated(subset=['review'], keep=False)\n",
    "duplicate_rows = df[duplicated]\n",
    "\n",
    "if not duplicate_rows.empty:\n",
    "    print(\"Duplicate records found:\")\n",
    "    print(duplicated.sum())\n",
    "else:\n",
    "    print(\"No duplicate records found.\")"
   ]
  },
  {
   "cell_type": "code",
   "execution_count": 6,
   "metadata": {},
   "outputs": [
    {
     "name": "stdout",
     "output_type": "stream",
     "text": [
      "Dataframe with no duplicate values:\n",
      "(255105, 13)\n"
     ]
    }
   ],
   "source": [
    "df = df.drop_duplicates(subset='review', keep='first').reset_index(drop=True)\n",
    "print(\"Dataframe with no duplicate values:\")\n",
    "print(df.shape)"
   ]
  },
  {
   "cell_type": "markdown",
   "metadata": {},
   "source": [
    "## Feature Transformation"
   ]
  },
  {
   "cell_type": "code",
   "execution_count": 7,
   "metadata": {},
   "outputs": [],
   "source": [
    "def clean_text(text):\n",
    "\n",
    "    # stop_words = set(stopwords.words('english'))\n",
    "    # word_tokens = word_tokenize(text)\n",
    "    # text = ' '.join([word for word in word_tokens if word not in stop_words])\n",
    "\n",
    "    cleaned_text = text.lower().replace('\\n', ' ')\n",
    "    cleaned_text = re.sub('\\[.*?\\]', '', cleaned_text)\n",
    "    cleaned_text = re.sub('[^a-zA-Z0-9()/!?&\\'\",. ]', '', cleaned_text)\n",
    "\n",
    "    return cleaned_text"
   ]
  },
  {
   "cell_type": "code",
   "execution_count": 8,
   "metadata": {},
   "outputs": [],
   "source": [
    "df['review'] = df['review'].astype(str)\n",
    "df['review'] = df['review'].apply(clean_text)"
   ]
  },
  {
   "cell_type": "code",
   "execution_count": 9,
   "metadata": {},
   "outputs": [],
   "source": [
    "df = df.drop(columns=['recommendationid', 'language','timestamp_created',\n",
    "       'timestamp_updated', 'written_during_early_access', 'comment_count',\n",
    "       'steam_purchase', 'received_for_free'])"
   ]
  },
  {
   "cell_type": "markdown",
   "metadata": {},
   "source": [
    "## Feature Engineering"
   ]
  },
  {
   "cell_type": "code",
   "execution_count": 10,
   "metadata": {},
   "outputs": [
    {
     "data": {
      "text/plain": [
       "count    255105.000000\n",
       "mean         44.504373\n",
       "std          95.168806\n",
       "min           0.000000\n",
       "25%           7.000000\n",
       "50%          16.000000\n",
       "75%          42.000000\n",
       "max        2286.000000\n",
       "Name: word_count, dtype: float64"
      ]
     },
     "execution_count": 10,
     "metadata": {},
     "output_type": "execute_result"
    }
   ],
   "source": [
    "df['word_count'] = df['review'].apply(lambda text: len(text.split()))\n",
    "df['word_count'].describe()"
   ]
  },
  {
   "cell_type": "code",
   "execution_count": 19,
   "metadata": {},
   "outputs": [
    {
     "data": {
      "image/png": "[encoded data removed]",
      "text/plain": [
       "<Figure size 640x480 with 1 Axes>"
      ]
     },
     "metadata": {},
     "output_type": "display_data"
    }
   ],
   "source": [
    "Q1 = df['word_count'].quantile(0.1)\n",
    "Q3 = df['word_count'].quantile(0.9)\n",
    "\n",
    "selected_records = df[(df['word_count'] >= Q1) &\n",
    "                       (df['word_count'] <= Q3) &\n",
    "                         (df['votes_up'] > 0) &\n",
    "                           (df['votes_up'] < 2000)]\n",
    "\n",
    "ax = sns.scatterplot(y='votes_up',\n",
    "                x='word_count',\n",
    "                hue='voted_up',\n",
    "                palette='rocket',\n",
    "                data=selected_records)\n",
    "ax.set_title('Word count vs Number of upvotes')\n",
    "plt.show()"
   ]
  },
  {
   "cell_type": "code",
   "execution_count": 21,
   "metadata": {},
   "outputs": [],
   "source": [
    "filtered_df = df[df['votes_up'] > 0].reset_index(drop=True)"
   ]
  },
  {
   "cell_type": "code",
   "execution_count": 22,
   "metadata": {},
   "outputs": [],
   "source": [
    "filtered_df = filtered_df[filtered_df['weighted_vote_score'] > 0.5].reset_index(drop=True)"
   ]
  },
  {
   "cell_type": "code",
   "execution_count": 23,
   "metadata": {},
   "outputs": [],
   "source": [
    "filtered_df = filtered_df[filtered_df['word_count'] > 30].reset_index(drop=True)\n",
    "filtered_df = filtered_df[filtered_df['word_count'] < 1000].reset_index(drop=True)"
   ]
  },
  {
   "cell_type": "markdown",
   "metadata": {},
   "source": [
    "Delete reviews with profanity"
   ]
  },
  {
   "cell_type": "code",
   "execution_count": 24,
   "metadata": {},
   "outputs": [
    {
     "data": {
      "text/plain": [
       "0    17371\n",
       "1      377\n",
       "Name: profanity, dtype: int64"
      ]
     },
     "execution_count": 24,
     "metadata": {},
     "output_type": "execute_result"
    }
   ],
   "source": [
    "filtered_df['profanity'] = pd.DataFrame(predict(filtered_df['review']))\n",
    "filtered_df['profanity'].value_counts()"
   ]
  },
  {
   "cell_type": "code",
   "execution_count": 25,
   "metadata": {},
   "outputs": [],
   "source": [
    "filtered_df = filtered_df[filtered_df['profanity'] == False]"
   ]
  },
  {
   "cell_type": "markdown",
   "metadata": {},
   "source": [
    "Save preprocessed dara"
   ]
  },
  {
   "cell_type": "code",
   "execution_count": 26,
   "metadata": {},
   "outputs": [
    {
     "data": {
      "text/plain": [
       "True     9609\n",
       "False     391\n",
       "Name: voted_up, dtype: int64"
      ]
     },
     "execution_count": 26,
     "metadata": {},
     "output_type": "execute_result"
    }
   ],
   "source": [
    "filtered_df = filtered_df.sort_values(by='weighted_vote_score', ascending=False).reset_index(drop=True)\n",
    "filtered_df['voted_up'].head(10000).value_counts()"
   ]
  },
  {
   "cell_type": "code",
   "execution_count": 27,
   "metadata": {},
   "outputs": [
    {
     "data": {
      "text/plain": [
       "(17371, 7)"
      ]
     },
     "execution_count": 27,
     "metadata": {},
     "output_type": "execute_result"
    }
   ],
   "source": [
    "filtered_df.shape"
   ]
  },
  {
   "cell_type": "code",
   "execution_count": 28,
   "metadata": {},
   "outputs": [],
   "source": [
    "filtered_df.head(10000).to_csv('./dataset/BG3_reviews_preprocessed.csv', index=False)"
   ]
  }
 ],
 "metadata": {
  "kernelspec": {
   "display_name": "Python 3",
   "language": "python",
   "name": "python3"
  },
  "language_info": {
   "codemirror_mode": {
    "name": "ipython",
    "version": 3
   },
   "file_extension": ".py",
   "mimetype": "text/x-python",
   "name": "python",
   "nbconvert_exporter": "python",
   "pygments_lexer": "ipython3",
   "version": "3.10.4"
  }
 },
 "nbformat": 4,
 "nbformat_minor": 2
}
