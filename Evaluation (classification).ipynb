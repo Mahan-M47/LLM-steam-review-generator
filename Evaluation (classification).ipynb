{
 "cells": [
  {
   "cell_type": "markdown",
   "metadata": {},
   "source": [
    "# Evaluating the LLM Models\n",
    "Mahan Madani - Mohammad Mehdi Begmaz"
   ]
  },
  {
   "cell_type": "markdown",
   "metadata": {},
   "source": [
    "## Load basic libraries and models"
   ]
  },
  {
   "cell_type": "code",
   "execution_count": 3,
   "metadata": {},
   "outputs": [],
   "source": [
    "import warnings\n",
    "warnings.filterwarnings(\"ignore\", category=UserWarning)\n",
    "\n",
    "import pandas as pd\n",
    "import numpy as np\n",
    "import torch\n",
    "\n",
    "import matplotlib.pyplot as plt\n",
    "import seaborn as sns\n",
    "from sklearn.metrics import accuracy_score, confusion_matrix, roc_auc_score, f1_score, roc_curve\n",
    "\n",
    "from transformers import (\n",
    "    AutoTokenizer,\n",
    "    AutoModelForCausalLM,\n",
    "    AutoTokenizer,\n",
    "    AutoModelForSequenceClassification,\n",
    "    DataCollatorForLanguageModeling,\n",
    "    TrainingArguments,\n",
    "    Trainer)"
   ]
  },
  {
   "cell_type": "code",
   "execution_count": 5,
   "metadata": {},
   "outputs": [
    {
     "name": "stdout",
     "output_type": "stream",
     "text": [
      "Index(['review', 'voted_up'], dtype='object')\n",
      "(161390, 2)\n"
     ]
    }
   ],
   "source": [
    "df = pd.read_csv(\"./dataset/BG3_reviews_updated.csv\")  # load the full version of the dataset\n",
    "df['review'] = df['review'].astype(str)\n",
    "df['word_count'] = df['review'].apply(lambda text: len(text.split()))\n",
    "\n",
    "df = df[df['word_count'] > 10]\n",
    "df = df[['review', 'voted_up']].dropna().reset_index(drop=True)\n",
    "\n",
    "print(df.columns)\n",
    "print(df.shape)"
   ]
  },
  {
   "cell_type": "code",
   "execution_count": 6,
   "metadata": {},
   "outputs": [
    {
     "name": "stdout",
     "output_type": "stream",
     "text": [
      "(8589, 2)\n"
     ]
    }
   ],
   "source": [
    "negative_df = df[df['voted_up'] == 0].reset_index(drop=True)\n",
    "print(negative_df.shape)"
   ]
  },
  {
   "cell_type": "code",
   "execution_count": 7,
   "metadata": {},
   "outputs": [
    {
     "name": "stdout",
     "output_type": "stream",
     "text": [
      "(152801, 2)\n"
     ]
    }
   ],
   "source": [
    "positive_df = df[df['voted_up'] == 1].reset_index(drop=True)\n",
    "print(positive_df.shape)"
   ]
  },
  {
   "cell_type": "code",
   "execution_count": 8,
   "metadata": {},
   "outputs": [],
   "source": [
    "from transformers.utils import logging\n",
    "import transformers\n",
    "\n",
    "logging.set_verbosity(transformers.logging.ERROR)"
   ]
  },
  {
   "cell_type": "code",
   "execution_count": 9,
   "metadata": {},
   "outputs": [],
   "source": [
    "classification_model_v1 = AutoModelForSequenceClassification.from_pretrained(\"./model/classification_v1\")\n",
    "tokenizer_v1 = AutoTokenizer.from_pretrained(\"./model/classification_v1\")"
   ]
  },
  {
   "cell_type": "code",
   "execution_count": 10,
   "metadata": {},
   "outputs": [],
   "source": [
    "classification_model_v2 = AutoModelForSequenceClassification.from_pretrained(\"./model/classification_v2\")\n",
    "tokenizer_v2 = AutoTokenizer.from_pretrained(\"./model/classification_v2\")"
   ]
  },
  {
   "cell_type": "markdown",
   "metadata": {},
   "source": [
    "## Evaluating the text classification models"
   ]
  },
  {
   "cell_type": "markdown",
   "metadata": {},
   "source": [
    "### Evaluation using  accuracy"
   ]
  },
  {
   "cell_type": "code",
   "execution_count": 11,
   "metadata": {},
   "outputs": [],
   "source": [
    "import re\n",
    "\n",
    "def clean_text(text):\n",
    "    cleaned_text = text.lower().replace('\\n', ' ')\n",
    "    cleaned_text = re.sub('\\[.*?\\]', '', cleaned_text)\n",
    "    cleaned_text = re.sub('[^a-zA-Z0-9()/!?&\\'\",. ]', '', cleaned_text)\n",
    "\n",
    "    if len(cleaned_text) > 1024:\n",
    "        cleaned_text = cleaned_text[:1024]\n",
    "\n",
    "    return cleaned_text"
   ]
  },
  {
   "cell_type": "code",
   "execution_count": 12,
   "metadata": {},
   "outputs": [],
   "source": [
    "def classify(model, tokenizer, text_list):\n",
    "    predictions = []\n",
    "    for text in text_list:\n",
    "        text = clean_text(text)\n",
    "        inputs = tokenizer.encode(text, return_tensors=\"pt\")\n",
    "        # print(text)\n",
    "        logits = model(inputs).logits\n",
    "        prediction = torch.argmax(logits)\n",
    "        \n",
    "        predictions.append(prediction.tolist())\n",
    "\n",
    "    return predictions"
   ]
  },
  {
   "cell_type": "code",
   "execution_count": 13,
   "metadata": {},
   "outputs": [],
   "source": [
    "def test_model(model, tokenizer, x_test, y_test):\n",
    "    y_pred = classify(model, tokenizer, x_test)\n",
    "\n",
    "    accuracy = accuracy_score(y_test, y_pred)\n",
    "    print(f\"Accuracy: {accuracy: >.6}\")\n",
    "\n",
    "    # Calculate confusion matrix\n",
    "    conf_matrix = confusion_matrix(y_test, y_pred)\n",
    "\n",
    "    plt.figure(figsize=[4,4])\n",
    "    sns.heatmap(conf_matrix, annot=True, fmt='d', cmap='crest', cbar=False, linewidths=1,\n",
    "                xticklabels=['Predicted Negative', 'Predicted Positive'],\n",
    "                yticklabels=['Actual Negative', 'Actual Positive'])\n",
    "\n",
    "    plt.title('Confusion Matrix')\n",
    "\n",
    "    # Calculate F1 score\n",
    "    f1 = f1_score(y_test, y_pred)\n",
    "    print(f\"F1 Score: {f1: >.6}\")\n"
   ]
  },
  {
   "cell_type": "code",
   "execution_count": 14,
   "metadata": {},
   "outputs": [],
   "source": [
    "sample_df = pd.concat([negative_df.sample(n=100, random_state=7), positive_df.sample(n=100, random_state=7)]).reset_index(drop=True)"
   ]
  },
  {
   "cell_type": "code",
   "execution_count": 15,
   "metadata": {},
   "outputs": [
    {
     "name": "stdout",
     "output_type": "stream",
     "text": [
      "Accuracy: 0.935\n",
      "F1 Score: 0.934673\n"
     ]
    },
    {
     "data": {
      "image/png": "[encoded data removed]",
      "text/plain": [
       "<Figure size 400x400 with 1 Axes>"
      ]
     },
     "metadata": {},
     "output_type": "display_data"
    }
   ],
   "source": [
    "test_model(classification_model_v2, tokenizer_v2, sample_df['review'], sample_df['voted_up'])"
   ]
  },
  {
   "cell_type": "code",
   "execution_count": null,
   "metadata": {},
   "outputs": [],
   "source": []
  }
 ],
 "metadata": {
  "kernelspec": {
   "display_name": "Python 3",
   "language": "python",
   "name": "python3"
  },
  "language_info": {
   "codemirror_mode": {
    "name": "ipython",
    "version": 3
   },
   "file_extension": ".py",
   "mimetype": "text/x-python",
   "name": "python",
   "nbconvert_exporter": "python",
   "pygments_lexer": "ipython3",
   "version": "3.10.4"
  }
 },
 "nbformat": 4,
 "nbformat_minor": 2
}
