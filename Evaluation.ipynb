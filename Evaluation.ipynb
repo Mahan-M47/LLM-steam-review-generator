{
 "cells": [
  {
   "cell_type": "markdown",
   "metadata": {},
   "source": [
    "# Evaluating the LLM Models\n",
    "Mahan Madani - Mohammad Mehdi Begmaz"
   ]
  },
  {
   "cell_type": "markdown",
   "metadata": {},
   "source": [
    "## Load basic libraries and models"
   ]
  },
  {
   "cell_type": "code",
   "execution_count": 10,
   "metadata": {},
   "outputs": [],
   "source": [
    "import warnings\n",
    "warnings.filterwarnings(\"ignore\", category=UserWarning)\n",
    "\n",
    "import pandas as pd\n",
    "import numpy as np\n",
    "import torch\n",
    "\n",
    "from transformers import (\n",
    "    AutoTokenizer,\n",
    "    AutoModelForCausalLM,\n",
    "    AutoTokenizer,\n",
    "    DataCollatorForLanguageModeling,\n",
    "    TrainingArguments,\n",
    "    Trainer)\n",
    "\n",
    "import evaluate\n",
    "from evaluate import load\n",
    "from rouge_score import rouge_scorer\n",
    "import jiwer"
   ]
  },
  {
   "cell_type": "code",
   "execution_count": 2,
   "metadata": {},
   "outputs": [
    {
     "name": "stdout",
     "output_type": "stream",
     "text": [
      "Index(['review', 'voted_up', 'votes_up', 'votes_funny', 'weighted_vote_score',\n",
      "       'word_count', 'profanity'],\n",
      "      dtype='object')\n",
      "(10000, 7)\n"
     ]
    }
   ],
   "source": [
    "df = pd.read_csv(\"./dataset/BG3_reviews_preprocessed.csv\")  # load the preprocessed version of the dataset\n",
    "print(df.columns)\n",
    "print(df.shape)"
   ]
  },
  {
   "cell_type": "code",
   "execution_count": 3,
   "metadata": {},
   "outputs": [],
   "source": [
    "model_v1 = AutoModelForCausalLM.from_pretrained(\"./model/v1\")\n",
    "tokenizer_v1 = AutoTokenizer.from_pretrained(\"./model/v1\")"
   ]
  },
  {
   "cell_type": "code",
   "execution_count": 4,
   "metadata": {},
   "outputs": [],
   "source": [
    "model_v2 = AutoModelForCausalLM.from_pretrained(\"./model/v2\")\n",
    "tokenizer_v2 = AutoTokenizer.from_pretrained(\"./model/v2\")"
   ]
  },
  {
   "cell_type": "code",
   "execution_count": 5,
   "metadata": {},
   "outputs": [],
   "source": [
    "model_v3 = AutoModelForCausalLM.from_pretrained(\"./model/v3\")\n",
    "tokenizer_v3 = AutoTokenizer.from_pretrained(\"./model/v3\")"
   ]
  },
  {
   "cell_type": "code",
   "execution_count": 6,
   "metadata": {},
   "outputs": [],
   "source": [
    "model_v4 = AutoModelForCausalLM.from_pretrained(\"./model/v4\")\n",
    "tokenizer_v4 = AutoTokenizer.from_pretrained(\"./model/v4\")"
   ]
  },
  {
   "cell_type": "code",
   "execution_count": 7,
   "metadata": {},
   "outputs": [],
   "source": [
    "def generate_samples(model, tokenizer, count=10):\n",
    "    if tokenizer.pad_token is None:\n",
    "        tokenizer.pad_token = tokenizer.eos_token\n",
    "\n",
    "    sample = []\n",
    "    for i in range(count):\n",
    "        generated_text = model.generate(do_sample=True, top_k=50, top_p=0.95, pad_token_id=tokenizer.pad_token_id, max_new_tokens=200)\n",
    "        generated_text = tokenizer.decode(generated_text[0], skip_special_tokens=True)\n",
    "        print(generated_text)\n",
    "        sample.append(generated_text)\n",
    "    \n",
    "    return sample"
   ]
  },
  {
   "cell_type": "code",
   "execution_count": 8,
   "metadata": {},
   "outputs": [],
   "source": [
    "from transformers.utils import logging\n",
    "import transformers\n",
    "\n",
    "logging.set_verbosity(transformers.logging.ERROR)"
   ]
  },
  {
   "cell_type": "markdown",
   "metadata": {},
   "source": [
    "## Evaluating the text generator models"
   ]
  },
  {
   "cell_type": "markdown",
   "metadata": {},
   "source": [
    "### Evaluation using  ROUGE"
   ]
  },
  {
   "cell_type": "code",
   "execution_count": 41,
   "metadata": {},
   "outputs": [],
   "source": [
    "def evaluate_rouge(reference_texts, generated_text):\n",
    "    scorer = rouge_scorer.RougeScorer(['rouge1', 'rougeL'], use_stemmer=True)\n",
    "    rouge_scores = scorer.score(' '.join(reference_texts), ' '.join(generated_text))\n",
    "    print(f\"\\nROUGE Scores: {rouge_scores}\")"
   ]
  },
  {
   "cell_type": "code",
   "execution_count": 42,
   "metadata": {},
   "outputs": [
    {
     "name": "stdout",
     "output_type": "stream",
     "text": [
      "the game is a best one game. of the game is the game that country. it that. that with a game is my worlds of the 1979, this game for the game of all the world. i would be a game. it is the new game is a game, i was a [unused708] a few based based of this game is [unused636] i can's gate game is a new game, the most for the game. it. the game is a few in the game is a lot in for the game. of theour and it!, but it're a world of the game'm a bit game and your going. there is ー it was the game is the game of the game. it is a bit with a world. this is a lot of a good of the game is a great at it has a game [unused859] the game. you can have a senior i can'm the game and i can't play that a game..\n",
      "the best game game. i've played of the game of the game is a [unused656] good of what i am game. i get this game is played to be me to get this game! to your played, this game as there are in the characters. this game is the game, and the game is a few [unused253] a examination the game has still, you can say i have in the best [unused253] i can say what what it'm [unused253] i get. it was the game in the game, this game is to play to the game to play. the game like a good with the game. i't come to say it. but i't get... for great game, but this game is being not take being the game. you've game. for a new [unused460].. the world. there is to [unused431]. i am game. a lot. i're still a game, it as it. of great game is [unused639]\n",
      "the last game to be played it.. but i have the game and the [unused253] this game. it to play i think you can get i can's a great. i am for a lot, the world. i was dnd the game. and i have this game, this is a lot. i have to be a game.s. i's an new much. of the [unused708] i have not one of the out, i am game. i't be my [unused656] far this game is 訁 the game has and i't only the game and a game's a lot. i am game of the [unused253] aggregate, i can be a new, the [unused253] i am of a game and i can get this game is one. i really's been an threatening that. i've played the game.. i't the game!. this game. i can's my game of the game for this game of the game has a\n",
      "[unused813] if you't not a game of the new much and the arrived, and this one ե to play but i'trian's a few rpg of the game is a lot of the game. this game, they have the game is the game to be a lot is played the makes of the game as this game is a few 月 the game, you't be 40 what i don's ˤ this game is a lot, and your first game, this game is a bit of the game out, i can't be. the game't be to be a greater of the game for the game i've greater and i am to the dnd the game is [unused0] be that't say. you have the story! as and i's a new is a [unused708] to the one, it game is a game for the game and i can't be a great to l with the game are 訁 to ء., if you's early\n",
      "this is this game is the best game is a world and i can have in early access and the game is the few game is not a [unused708]. it is a game, and this is a most and [unused459] i can say myself that i can play in the lot, i don's [unused708] this game are a lot.. it in this game with the arrived, but it!! of a lot and [unused639] far is the game is my played it't be a few game. i'm a few. this game that. if you don'm out. the game and i't want with this game! of it'm a good and [unused639] there is a new based based game and the new based that i have a lot and a lot, but it and i can play as i't want,., this game has it has [unused639] [unused719]'t the game. you can's the old to not a lot!, the worlds is\n",
      "\n",
      "ROUGE Scores: {'rouge1': Score(precision=0.9550970873786407, recall=0.05621027069495036, fmeasure=0.10617200674536256), 'rougeL': Score(precision=0.6820388349514563, recall=0.040139990000714235, fmeasure=0.07581787521079258)}\n"
     ]
    }
   ],
   "source": [
    "evaluate_rouge(df['review'].sample(100), generate_samples(model_v1, tokenizer_v1, 5))"
   ]
  },
  {
   "cell_type": "code",
   "execution_count": 52,
   "metadata": {},
   "outputs": [
    {
     "name": "stdout",
     "output_type": "stream",
     "text": [
      "Sitting down to play through it, the game is well done, it's just buggy at times but all of that is confirmed with feedback that i've been very excited to play, the game is ready to kick it off as soon as i get an actual pc, so i can definitely recommend it.  update it is very well done and i'm very impressed by how well it has done with its content! even with some minor issues the quality is so good. as an avid dd player this game is a game of a lifetime. with all the bugs and crashes you could potentially encounter, the game is well worth the price.   update as of now,  the game is in early access. this is one of the few games where you will be able to level the overall level or simply the individual quest levels very easily. this also means you can always go on a quest to improve the level up and progress in each progression. the only other option is to explore specific paths in the\n",
      "Might this one be good?  i think it would be interesting in a way that would be interesting to see, but that's what we usually expect to happen in games, where you can't just tell if you want to play or not. i'm sure there will be some problems later in the game that i'll have to take an extra minute to deal with and hope that they're fixed and there'll be a way to fix it. as of now, i'm not sure. i can't wait for this game to release and hope for the best!i love the feel of this game (although i know it hasn't been officially released yet), but this is not the complete game it once was. there is a lot of detail and content missing. if you don't like turnbased combat or turnbased games, this game is for you! i've only played two parts of the game so far and i can't say it was completely enjoyable but the story is interesting. \n",
      "/u/withersthefox 11/30/18 r/cordovaniongame. i wish i could have gotten all the stuff that a lot of people have said for baldurs gate 3 but I can't imagine how many years and hours of love would have been wasted. if they'd have released it for the first time, it could be one of the best video games i've ever played, and it's the game that finally got a fair review.   i can say unequivocally that baldurs gate 3 is a masterpiece. it's something that's sure to resonate with generations to come. it's a game that's sure to surprise you. it's one of the few titles that can have an interesting mix of mechanics, stories, combat, and narrative elements. every once in a while you'll see a unique twist that lets you dive deeper into an old story for the first time, or you'll be drawn in by a new storyline or story line to a new\n",
      "' The first chapter isn't as good as the previous, and it may not work at all, but it's enough for my enjoyment.' it feels like a divinity series.  the story, the characters, the story beats, the characters, the lore, the quests... what this game did was nothing short of fantastic. every quest and scenario feels as authentic as it should have been, and i'm not sure why i'm making excuses for not liking it  it is a game worth playing and i expect it to stay that way even after full release.  update  i was still having trouble finding some companions for all the quests.  it was like i'd just found them all at the location.  i can't wait for full release as the game is good and i'm eager to play more as an exe.it's the best game i've ever played. you get so much more choices and character customization, and all the options you're given at the start\n",
      "\n",
      "if you haven't heard, baldur's gate 3 is just that great. the story, the world, the characters, the atmosphere, the action, all of that. with so much so many choices that could be taken, the entire game feels alive and interesting. even without a full release, baldur's gate 3 still feels like a true piece of art. the game has so much potential.   a huge thank you to the makers of this awesome game. larian studios. thank you for making baldur's gate 3 a success.i've played it before, but it really doesn't feel like a game like this.  it's a crpg for me. i played dos2 on some pretty small pc monitors. i'm a big fan of the dos series but i also really enjoy the dd style of dnd 5e, so i'm enjoying the turn based combat and turn based game modes more.  the graphics are amazing, the music is incredible. it\n",
      "\n",
      "ROUGE Scores: {'rouge1': Score(precision=0.9722543352601156, recall=0.05755543388995346, fmeasure=0.10867739225948181), 'rougeL': Score(precision=0.522543352601156, recall=0.030933479332055844, fmeasure=0.058409252439103186)}\n"
     ]
    }
   ],
   "source": [
    "evaluate_rouge(df['review'].sample(100), generate_samples(model_v2, tokenizer_v2, 5))"
   ]
  },
  {
   "cell_type": "code",
   "execution_count": 53,
   "metadata": {},
   "outputs": [
    {
     "name": "stdout",
     "output_type": "stream",
     "text": [
      "For the first time in gaming, i can say that this game is absolutely amazing! the replayability is unparalleled, and the choices and actions matter so far. the replayability is amazing, the story is compelling, the combat is challenging, i like a challenge that is very personal, and i love every single situation, even the simple one.  i have to say, if you haven't already had your chance at this title, it is a very enjoyable experience and i can't recommend it enough!   edit after spending 3 hours and 45 minutes on this game, i'm finally excited to play it. i don't want to spoil things by waiting till after launch, but i have enjoyed the game so far, and its honestly one of my favorites. i love how the choices have really influenced how i play this game. i love how the replayability is so low, and if i had any doubts or issues, i can say that my doubts were confirmed.   i highly recommend\n",
      "The original baldur's gate games, as well as the baldur's gate 4 series of games that preceded them, are one of the greatest crpgs to have been created. from the great dnd universe of divinity original sin 2, to the stunningly deep combat of baldur's gate 3.   baldur's gate 3 features some very interesting choices that allow you to make and play different types of dungeons  dragons characters, ranging from the cunning wizard and his rogue paladin, to the intelligent wizard and his ranger paladin.   the gameplay of baldur's gate 3 is very varied, and it is truly a unique experience. as well as the immersive story with multiple paths for you and different decisions you can make in each adventure.  baldur's gate 3 is a game that is truly a breath of fresh air for any players.  game updates are plentiful, and with the release of the bg3, it is very noticeable that the bg3\n",
      "The full game looks fantastic and I'm absolutely blown away by the amount of work involved and passion poured into this game.  the art design was amazing and the story is amazing.  i would suggest having a go at a character builder to find what you need and make a character that looks like you are looking at a portrait in the real world.  i'm not a huge fan of crpg's but the overall gameplay is very interesting and i absolutely love this game.  the game has a ton of replayability, i'm not even sure where it takes me right now but i will give it a run and see what happens.  i love every single minute and i absolutely recommend this game.   if you have any questions or concerns in the forums please let me know. i haven't played any of the prebuilt content so please take the time to read up on the game and see how it's working out.   there are so many bugs you could potentially encounter, including\n",
      "1 2 3 4 5 play it before you buy it for a while and try it at least once if you don't already have it. you'll need it for some people though and you'll probably have other people play it if you have a PC with it already.  the game looks awesome. the dialogue choices are awesome, the character designs are awesome. the voice acting is great, the animations are great, the environments are awesome. i haven't even done the first act yet but i would recommend it to everyone who is already into the game. it's been a while since i bought anything in my entire life.   this game is really good. i wouldn't recommend it for everyone but if you want a hardcore dd experience but want something you can play with friends. maybe it has other stuff to do.  this has been my favorite part of the year so far. the character development is great and i hope everyone else enjoys the story as well. i'm looking forward to doing\n",
      "When you play dd you know exactly what you are going to see. your character is unique and there are different ways to approach your play. your skills and weapons are all unique and unique. the only thing to worry about is that all characters have different spell slots and classes. the game is balanced so you don't spend so much time doing the spells just because it seems like every character has it right now.  you can get on good with some friends without getting bored with the combat. i can't wait to get to the main story with all my friends. i'm getting more and more into the game so i'm really excited to see the full release.  if you are new to dd i highly recommend playing this game and playing it with someone that has played dd before. if you love dd and have been playing dd for more than a couple of years and don't mind having the experience of playing it for yourself please let me know!  edit i'm now enjoying all aspects of this\n",
      "\n",
      "ROUGE Scores: {'rouge1': Score(precision=0.9726651480637813, recall=0.06666146280540161, fmeasure=0.12477171451530425), 'rougeL': Score(precision=0.4908883826879271, recall=0.03364296307860432, fmeasure=0.06297026809847323)}\n"
     ]
    }
   ],
   "source": [
    "evaluate_rouge(df['review'].sample(100), generate_samples(model_v3, tokenizer_v3, 5))"
   ]
  },
  {
   "cell_type": "code",
   "execution_count": 57,
   "metadata": {},
   "outputs": [
    {
     "name": "stdout",
     "output_type": "stream",
     "text": [
      "\"if you're going to play this game, you need this game.\"  larian studios is working on a rpg based on dd. it is amazing. you can do it in about an hour.  the game has tons of content and you can go to any location to get all sorts of content.  the story is pretty amazing and if you're reading the reviews on here, you've seen all kinds of stuff, so why waste any time on a game that's so good?   the graphics are amazing. everything feels very realistic. it seems like every character has a different hairstyle or outfit.  the dialogue is amazing. i was really hoping for more character dialog, but after reading all the reviews, i wasn't sure.   my only problem is that the story isn't very detailed. i found myself thinking about how to avoid having the adventure in front of me, which makes it feel less exciting. if you play through the early access phase, you'll\n",
      "A few things to note about this game, it is the first game to completely rerelease the release date for this one.  it is also the first one to be so much fun to do and the first time an game was released in this genre.  i haven't run gamedev in a long while and it has been awesome so far.    it is pretty buggy on launch, has very limited dialogue options and the only features that make this a game worth picking up are the fact that you can't pick up any weapons if you are using spells, or have a group of companions that will drop the items.  but in my experience it is not one of those things that you would expect from a game released this long ago.     this is one of the best games i have played thus far.   you really cannot beat this game     the characters make a really great addition to the gaming experience. you can't beat any of the more\n",
      "(published on the 10th of March 2017, 5 years ago)    if you're going to play this game, then you have to play it!  this is the epic dnd that changed the world for the better.   i love dnd for a great reason!      the main characters are just wonderful, the dialogues are really interesting, the music is great, and that's it.  the world was in a new world once, and it's still alive and well.   as for the game mechanics, this is where i'm at.  the dialogue isn't always pretty, but the characters really deliver and the world has depth to it that you don't get in a tabletop game.   i want the player to have an idea of the world and what the choices are that they might make.   the controls are responsive, and i feel like they can have a lot of fun.    the music is stunning\n",
      "A simple but solid game from the creators of divinity original sin 2. if you're looking for a rpg, just click here. but if you like rpgs, just click here.  the game is gorgeous. all the environments are beautiful. there are so many choices, the choices can be very personal. i mean, it's a completely different game every time. but in an otherwise good rpg, it's so well crafted and fun to actually play. every single aspect works out. you can take actions in order to get more resources in your game. and this is the way i'd like it if it's a good game.  the graphics are really good, the graphics are stunning. the game's world is so small and dense that you have to use a lot of your time. it's a nice contrast to an otherwise amazing rpg like divinity original sin 2. but the amount of content, the story, the dialogue, etc, feels like a massive\n",
      "In this guide, you will be able to find detailed information for your character. to be fair though, there are some important things to remember when playing dd. i have also been unable to find the right way to enter into a game without having been told by your GM or companions not to do so.     edit here  first of all, let me tell you that this is not a game for everyone. no matter what your level of experience or how fun it may feel, you will likely be spending a lot of time playing a game with the wrong expectations. this also means that some of your conversations may lead to a serious mistake. if you plan on playing the whole game, you will probably want to skip the story portions of the game, since the end of the game is set for a long week and the characters will be traveling to different regions. if you aren't sure what is going on, then you may want to make sure to check the game out. if you\n",
      "\n",
      "ROUGE Scores: {'rouge1': Score(precision=0.9702380952380952, recall=0.058878774743534174, fmeasure=0.11102029696226673), 'rougeL': Score(precision=0.5166666666666667, recall=0.03135385059962433, fmeasure=0.05912001089769786)}\n"
     ]
    }
   ],
   "source": [
    "evaluate_rouge(df['review'].sample(100), generate_samples(model_v4, tokenizer_v4, 5))"
   ]
  },
  {
   "cell_type": "markdown",
   "metadata": {},
   "source": [
    "### Evaluation using perplexity"
   ]
  },
  {
   "cell_type": "code",
   "execution_count": null,
   "metadata": {},
   "outputs": [],
   "source": [
    "def evaluate_perplexity(reference_texts, generated_text):\n",
    "    scorer = rouge_scorer.RougeScorer(['rouge1', 'rougeL'], use_stemmer=True)\n",
    "    rouge_scores = scorer.score(' '.join(reference_texts), ' '.join(generated_text))\n",
    "    print(f\"\\nROUGE Scores: {rouge_scores}\")"
   ]
  },
  {
   "cell_type": "code",
   "execution_count": null,
   "metadata": {},
   "outputs": [],
   "source": [
    "evaluate_perplexity(df['review'].sample(100), generate_samples(model_v1, tokenizer_v1, 5))"
   ]
  },
  {
   "cell_type": "code",
   "execution_count": 1,
   "metadata": {},
   "outputs": [],
   "source": [
    "# from transformers import pipeline\n",
    "\n",
    "# def calculate_perplexity(model, tokenizer, text):\n",
    "#     text_ids = tokenizer.encode(text, return_tensors=\"pt\")\n",
    "#     logits = model(text_ids).logits\n",
    "#     perplexity = pipeline(\"text-generation\").compute_perplexity(logits)\n",
    "#     return perplexity\n",
    "\n",
    "# perplexity = calculate_perplexity(model_v1, tokenizer_v1, \"Your generated text goes here.\")\n",
    "# print(f\"Perplexity: {perplexity}\")\n"
   ]
  },
  {
   "cell_type": "code",
   "execution_count": null,
   "metadata": {},
   "outputs": [],
   "source": [
    "perplexity = load(\"perplexity\", module_type=\"metric\")\n",
    "results = perplexity.compute(predictions=generated_text, model_id='gpt2')"
   ]
  },
  {
   "cell_type": "code",
   "execution_count": null,
   "metadata": {},
   "outputs": [],
   "source": [
    "from transformers import pipeline, AutoModelForCausalLM, AutoTokenizer\n",
    "\n",
    "# Load your fine-tuned model\n",
    "model_name = \"your_fine_tuned_model_name\"\n",
    "model = AutoModelForCausalLM.from_pretrained(model_name)\n",
    "tokenizer = AutoTokenizer.from_pretrained(model_name)\n",
    "\n",
    "# Example prompt\n",
    "prompt = \"Once upon a time...\"\n",
    "\n",
    "# Tokenize the prompt\n",
    "input_ids = tokenizer.encode(prompt, return_tensors=\"pt\")\n",
    "\n",
    "# Generate text\n",
    "generator = pipeline(\"text-generation\", model=model, tokenizer=tokenizer)\n",
    "generated_text = generator(prompt, max_length=50, num_return_sequences=1)[0]['generated_text']\n",
    "\n",
    "# Compute perplexity\n",
    "perplexity = generator.compute_perplexity(generated_text)\n",
    "print(f\"Perplexity: {perplexity}\")\n"
   ]
  },
  {
   "cell_type": "markdown",
   "metadata": {},
   "source": [
    "### Evaluation using WER"
   ]
  },
  {
   "cell_type": "code",
   "execution_count": 14,
   "metadata": {},
   "outputs": [],
   "source": [
    "def evaluate_wer(generated_text, reference_text):\n",
    "    # Tokenize the texts into words\n",
    "    generated_tokens = ' '.join(generated_text).split()\n",
    "    reference_tokens = ' '.join(reference_text).split()\n",
    "\n",
    "    # Calculate WER\n",
    "    wer_score = jiwer.wer(reference_tokens, generated_tokens)\n",
    "    print(f\"WER Score: {wer_score}\")"
   ]
  },
  {
   "cell_type": "code",
   "execution_count": 15,
   "metadata": {},
   "outputs": [
    {
     "name": "stdout",
     "output_type": "stream",
     "text": [
      "[unused24] a best game. this game of the game is the best is a game. the best is the ° the dissertation of the story in the best. it is the [unused253]. i am early access to be one is network of the game. and the dnd, no played to play you can's in the first is no game is a good of your story a game, and i can's the game... and the most based game is my few the game of a game at the game is a bit of a lot that i's example.. i's a new review, the character out with to play. i can be a few game and i can's gate is a little, and the combat, i's a lot, there's a lot. you م me, and play you're be the game has a lot of the game. the game't be a game. you'm out. theour. i '\n",
      "ˤ. and it, and i like the game is a lot and i can be a world! i can be early access is. this game. if you can say the story, the game, you can activation the game is a worlds and i can's been all the game. the game i't be a lot, and i can's gate game. i can's still a game is a lot is [unused790] it. it've played.. i can get. for this game's still not the game.., i's gate, the story. i's a dnd. if you.. i would be a game the great to say the game is not ч. the game. it's not a new senior played with swimming game is a lot of the game, and the game, i'll have ー's a few character a new based [unused499] i's a few of the game is a\n",
      "not still this game is a best game is. i have still a bit game would be 訁 here of early access and to be a story, and i was a good for it, i have a good, with the game't be a game is me, and the game. i have a game. i can's a lot, but i [unused618] this game. it's one, i would be a greats game is p an dissertation of the game.. i could a game. and this game to the game, it is a few few [unused460] and i am... it's still still 德 great is a bit.., and it is a game to 侍. it't be a new to the थ, but i can want the game is an ρ you think i really a world, and i't play and the game is [unused731] ᄀ played. it, you can say this game, but it was being a lot,\n"
     ]
    },
    {
     "ename": "ValueError",
     "evalue": "After applying the transforms on the reference and hypothesis sentences, their lengths must match. Instead got 452 reference and 265 hypothesis sentences.",
     "output_type": "error",
     "traceback": [
      "\u001b[1;31m---------------------------------------------------------------------------\u001b[0m",
      "\u001b[1;31mValueError\u001b[0m                                Traceback (most recent call last)",
      "Cell \u001b[1;32mIn [15], line 1\u001b[0m\n\u001b[1;32m----> 1\u001b[0m \u001b[43mevaluate_wer\u001b[49m\u001b[43m(\u001b[49m\u001b[43mdf\u001b[49m\u001b[43m[\u001b[49m\u001b[38;5;124;43m'\u001b[39;49m\u001b[38;5;124;43mreview\u001b[39;49m\u001b[38;5;124;43m'\u001b[39;49m\u001b[43m]\u001b[49m\u001b[38;5;241;43m.\u001b[39;49m\u001b[43msample\u001b[49m\u001b[43m(\u001b[49m\u001b[38;5;241;43m3\u001b[39;49m\u001b[43m)\u001b[49m\u001b[43m,\u001b[49m\u001b[43m \u001b[49m\u001b[43mgenerate_samples\u001b[49m\u001b[43m(\u001b[49m\u001b[43mmodel_v1\u001b[49m\u001b[43m,\u001b[49m\u001b[43m \u001b[49m\u001b[43mtokenizer_v1\u001b[49m\u001b[43m,\u001b[49m\u001b[43m \u001b[49m\u001b[38;5;241;43m3\u001b[39;49m\u001b[43m)\u001b[49m\u001b[43m)\u001b[49m\n",
      "Cell \u001b[1;32mIn [14], line 7\u001b[0m, in \u001b[0;36mevaluate_wer\u001b[1;34m(generated_text, reference_text)\u001b[0m\n\u001b[0;32m      4\u001b[0m reference_tokens \u001b[38;5;241m=\u001b[39m \u001b[38;5;124m'\u001b[39m\u001b[38;5;124m \u001b[39m\u001b[38;5;124m'\u001b[39m\u001b[38;5;241m.\u001b[39mjoin(reference_text)\u001b[38;5;241m.\u001b[39msplit()\n\u001b[0;32m      6\u001b[0m \u001b[38;5;66;03m# Calculate WER\u001b[39;00m\n\u001b[1;32m----> 7\u001b[0m wer_score \u001b[38;5;241m=\u001b[39m \u001b[43mjiwer\u001b[49m\u001b[38;5;241;43m.\u001b[39;49m\u001b[43mwer\u001b[49m\u001b[43m(\u001b[49m\u001b[43mreference_tokens\u001b[49m\u001b[43m,\u001b[49m\u001b[43m \u001b[49m\u001b[43mgenerated_tokens\u001b[49m\u001b[43m)\u001b[49m\n\u001b[0;32m      8\u001b[0m \u001b[38;5;28mprint\u001b[39m(\u001b[38;5;124mf\u001b[39m\u001b[38;5;124m\"\u001b[39m\u001b[38;5;124mWER Score: \u001b[39m\u001b[38;5;132;01m{\u001b[39;00mwer_score\u001b[38;5;132;01m}\u001b[39;00m\u001b[38;5;124m\"\u001b[39m)\n",
      "File \u001b[1;32mc:\\Users\\Mahan\\AppData\\Local\\Programs\\Python\\Python310\\lib\\site-packages\\jiwer\\measures.py:111\u001b[0m, in \u001b[0;36mwer\u001b[1;34m(reference, hypothesis, reference_transform, hypothesis_transform, truth, truth_transform)\u001b[0m\n\u001b[0;32m     74\u001b[0m \u001b[38;5;124;03m\"\"\"\u001b[39;00m\n\u001b[0;32m     75\u001b[0m \u001b[38;5;124;03mCalculate the word error rate (WER) between one or more reference and\u001b[39;00m\n\u001b[0;32m     76\u001b[0m \u001b[38;5;124;03mhypothesis sentences.\u001b[39;00m\n\u001b[1;32m   (...)\u001b[0m\n\u001b[0;32m     95\u001b[0m \u001b[38;5;124;03m             hypothesis sentence(s).\u001b[39;00m\n\u001b[0;32m     96\u001b[0m \u001b[38;5;124;03m\"\"\"\u001b[39;00m\n\u001b[0;32m     97\u001b[0m (\n\u001b[0;32m     98\u001b[0m     reference,\n\u001b[0;32m     99\u001b[0m     hypothesis,\n\u001b[1;32m   (...)\u001b[0m\n\u001b[0;32m    108\u001b[0m     hypothesis_transform\u001b[38;5;241m=\u001b[39mhypothesis_transform,\n\u001b[0;32m    109\u001b[0m )\n\u001b[1;32m--> 111\u001b[0m output \u001b[38;5;241m=\u001b[39m \u001b[43mprocess_words\u001b[49m\u001b[43m(\u001b[49m\n\u001b[0;32m    112\u001b[0m \u001b[43m    \u001b[49m\u001b[43mreference\u001b[49m\u001b[43m,\u001b[49m\u001b[43m \u001b[49m\u001b[43mhypothesis\u001b[49m\u001b[43m,\u001b[49m\u001b[43m \u001b[49m\u001b[43mreference_transform\u001b[49m\u001b[43m,\u001b[49m\u001b[43m \u001b[49m\u001b[43mhypothesis_transform\u001b[49m\n\u001b[0;32m    113\u001b[0m \u001b[43m\u001b[49m\u001b[43m)\u001b[49m\n\u001b[0;32m    114\u001b[0m \u001b[38;5;28;01mreturn\u001b[39;00m output\u001b[38;5;241m.\u001b[39mwer\n",
      "File \u001b[1;32mc:\\Users\\Mahan\\AppData\\Local\\Programs\\Python\\Python310\\lib\\site-packages\\jiwer\\process.py:170\u001b[0m, in \u001b[0;36mprocess_words\u001b[1;34m(reference, hypothesis, reference_transform, hypothesis_transform)\u001b[0m\n\u001b[0;32m    165\u001b[0m hyp_transformed \u001b[38;5;241m=\u001b[39m _apply_transform(\n\u001b[0;32m    166\u001b[0m     hypothesis, hypothesis_transform, is_reference\u001b[38;5;241m=\u001b[39m\u001b[38;5;28;01mFalse\u001b[39;00m\n\u001b[0;32m    167\u001b[0m )\n\u001b[0;32m    169\u001b[0m \u001b[38;5;28;01mif\u001b[39;00m \u001b[38;5;28mlen\u001b[39m(ref_transformed) \u001b[38;5;241m!=\u001b[39m \u001b[38;5;28mlen\u001b[39m(hyp_transformed):\n\u001b[1;32m--> 170\u001b[0m     \u001b[38;5;28;01mraise\u001b[39;00m \u001b[38;5;167;01mValueError\u001b[39;00m(\n\u001b[0;32m    171\u001b[0m         \u001b[38;5;124m\"\u001b[39m\u001b[38;5;124mAfter applying the transforms on the reference and hypothesis sentences, \u001b[39m\u001b[38;5;124m\"\u001b[39m\n\u001b[0;32m    172\u001b[0m         \u001b[38;5;124mf\u001b[39m\u001b[38;5;124m\"\u001b[39m\u001b[38;5;124mtheir lengths must match. \u001b[39m\u001b[38;5;124m\"\u001b[39m\n\u001b[0;32m    173\u001b[0m         \u001b[38;5;124mf\u001b[39m\u001b[38;5;124m\"\u001b[39m\u001b[38;5;124mInstead got \u001b[39m\u001b[38;5;132;01m{\u001b[39;00m\u001b[38;5;28mlen\u001b[39m(ref_transformed)\u001b[38;5;132;01m}\u001b[39;00m\u001b[38;5;124m reference and \u001b[39m\u001b[38;5;124m\"\u001b[39m\n\u001b[0;32m    174\u001b[0m         \u001b[38;5;124mf\u001b[39m\u001b[38;5;124m\"\u001b[39m\u001b[38;5;132;01m{\u001b[39;00m\u001b[38;5;28mlen\u001b[39m(hyp_transformed)\u001b[38;5;132;01m}\u001b[39;00m\u001b[38;5;124m hypothesis sentences.\u001b[39m\u001b[38;5;124m\"\u001b[39m\n\u001b[0;32m    175\u001b[0m     )\n\u001b[0;32m    177\u001b[0m \u001b[38;5;66;03m# Change each word into a unique character in order to compute\u001b[39;00m\n\u001b[0;32m    178\u001b[0m \u001b[38;5;66;03m# word-level levenshtein distance\u001b[39;00m\n\u001b[0;32m    179\u001b[0m ref_as_chars, hyp_as_chars \u001b[38;5;241m=\u001b[39m _word2char(ref_transformed, hyp_transformed)\n",
      "\u001b[1;31mValueError\u001b[0m: After applying the transforms on the reference and hypothesis sentences, their lengths must match. Instead got 452 reference and 265 hypothesis sentences."
     ]
    }
   ],
   "source": [
    "evaluate_wer(df['review'].sample(3), generate_samples(model_v1, tokenizer_v1, 3))"
   ]
  },
  {
   "cell_type": "code",
   "execution_count": null,
   "metadata": {},
   "outputs": [],
   "source": []
  }
 ],
 "metadata": {
  "kernelspec": {
   "display_name": "Python 3",
   "language": "python",
   "name": "python3"
  },
  "language_info": {
   "codemirror_mode": {
    "name": "ipython",
    "version": 3
   },
   "file_extension": ".py",
   "mimetype": "text/x-python",
   "name": "python",
   "nbconvert_exporter": "python",
   "pygments_lexer": "ipython3",
   "version": "3.10.4"
  }
 },
 "nbformat": 4,
 "nbformat_minor": 2
}
